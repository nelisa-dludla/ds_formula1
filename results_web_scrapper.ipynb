{
 "cells": [
  {
   "cell_type": "code",
   "execution_count": 154,
   "id": "0d00f9ed",
   "metadata": {},
   "outputs": [],
   "source": [
    "import requests as req\n",
    "from bs4 import BeautifulSoup as bs\n",
    "import csv\n",
    "import pandas as pd\n",
    "from matplotlib import pyplot as plt"
   ]
  },
  {
   "cell_type": "code",
   "execution_count": 131,
   "id": "28fb7544",
   "metadata": {},
   "outputs": [
    {
     "name": "stdout",
     "output_type": "stream",
     "text": [
      "[{'gp': 'Bahrain', 'driver': 'VER', 'constructor': 'Red Bull Racing Honda RBPT'}, {'gp': 'Saudi Arabia', 'driver': 'PER', 'constructor': 'Red Bull Racing Honda RBPT'}, {'gp': 'Australia', 'driver': 'VER', 'constructor': 'Red Bull Racing Honda RBPT'}, {'gp': 'Azerbaijan', 'driver': 'PER', 'constructor': 'Red Bull Racing Honda RBPT'}, {'gp': 'Miami', 'driver': 'VER', 'constructor': 'Red Bull Racing Honda RBPT'}, {'gp': 'Monaco', 'driver': 'VER', 'constructor': 'Red Bull Racing Honda RBPT'}, {'gp': 'Spain', 'driver': 'VER', 'constructor': 'Red Bull Racing Honda RBPT'}, {'gp': 'Canada', 'driver': 'VER', 'constructor': 'Red Bull Racing Honda RBPT'}, {'gp': 'Austria', 'driver': 'VER', 'constructor': 'Red Bull Racing Honda RBPT'}, {'gp': 'Great Britain', 'driver': 'VER', 'constructor': 'Red Bull Racing Honda RBPT'}, {'gp': 'Hungary', 'driver': 'VER', 'constructor': 'Red Bull Racing Honda RBPT'}, {'gp': 'Belgium', 'driver': 'VER', 'constructor': 'Red Bull Racing Honda RBPT'}, {'gp': 'Netherlands', 'driver': 'VER', 'constructor': 'Red Bull Racing Honda RBPT'}, {'gp': 'Italy', 'driver': 'VER', 'constructor': 'Red Bull Racing Honda RBPT'}, {'gp': 'Singapore', 'driver': 'SAI', 'constructor': 'Ferrari'}, {'gp': 'Japan', 'driver': 'VER', 'constructor': 'Red Bull Racing Honda RBPT'}, {'gp': 'Qatar', 'driver': 'VER', 'constructor': 'Red Bull Racing Honda RBPT'}, {'gp': 'United States', 'driver': 'VER', 'constructor': 'Red Bull Racing Honda RBPT'}, {'gp': 'Mexico', 'driver': 'VER', 'constructor': 'Red Bull Racing Honda RBPT'}, {'gp': 'Brazil', 'driver': 'VER', 'constructor': 'Red Bull Racing Honda RBPT'}, {'gp': 'Las Vegas', 'driver': 'VER', 'constructor': 'Red Bull Racing Honda RBPT'}]\n"
     ]
    }
   ],
   "source": [
    "url_2023 = \"https://www.formula1.com/en/results.html/2023/races.html\"\n",
    "html_2023 = req.get(url_2023)\n",
    "\n",
    "soup = bs(html_2023.content, \"html5lib\")\n",
    "\n",
    "race_results_2023 = []\n",
    "\n",
    "table = soup.find_all(\"tr\")\n",
    "\n",
    "for row in table:\n",
    "    results = {}\n",
    "    \n",
    "    if row.select_one(\"td.dark.bold a\") is not None:\n",
    "        results[\"gp\"] = row.select_one(\"td.dark.bold a\").text.strip()\n",
    "        \n",
    "    if row.select_one(\"td.dark.bold span.uppercase.hide-for-desktop\") is not None:\n",
    "        results[\"driver\"] = row.select_one(\"td.dark.bold span.uppercase.hide-for-desktop\").text\n",
    "        \n",
    "    if row.select_one(\"td.semi-bold.uppercase\") is not None:\n",
    "        results[\"constructor\"] = row.select_one(\"td.semi-bold.uppercase\").text\n",
    "    \n",
    "    if results:\n",
    "        race_results_2023.append(results)\n",
    "\n",
    "print(race_results_2023)"
   ]
  },
  {
   "cell_type": "code",
   "execution_count": 135,
   "id": "60403b52",
   "metadata": {},
   "outputs": [],
   "source": [
    "# save results to csv file\n",
    "filename = \"race_results_2023.csv\"\n",
    "with open(filename, \"w\", newline=\"\") as csvfile:\n",
    "    writer = csv.DictWriter(csvfile, [\"gp\", \"driver\", \"constructor\"])\n",
    "    writer.writeheader()\n",
    "    \n",
    "    for result in race_results_2023:\n",
    "        writer.writerow(result)\n"
   ]
  },
  {
   "cell_type": "code",
   "execution_count": 140,
   "id": "68a4736b",
   "metadata": {},
   "outputs": [
    {
     "name": "stdout",
     "output_type": "stream",
     "text": [
      "               gp driver                 constructor\n",
      "0         Bahrain    VER  Red Bull Racing Honda RBPT\n",
      "1    Saudi Arabia    PER  Red Bull Racing Honda RBPT\n",
      "2       Australia    VER  Red Bull Racing Honda RBPT\n",
      "3      Azerbaijan    PER  Red Bull Racing Honda RBPT\n",
      "4           Miami    VER  Red Bull Racing Honda RBPT\n",
      "5          Monaco    VER  Red Bull Racing Honda RBPT\n",
      "6           Spain    VER  Red Bull Racing Honda RBPT\n",
      "7          Canada    VER  Red Bull Racing Honda RBPT\n",
      "8         Austria    VER  Red Bull Racing Honda RBPT\n",
      "9   Great Britain    VER  Red Bull Racing Honda RBPT\n",
      "10        Hungary    VER  Red Bull Racing Honda RBPT\n",
      "11        Belgium    VER  Red Bull Racing Honda RBPT\n",
      "12    Netherlands    VER  Red Bull Racing Honda RBPT\n",
      "13          Italy    VER  Red Bull Racing Honda RBPT\n",
      "14      Singapore    SAI                     Ferrari\n",
      "15          Japan    VER  Red Bull Racing Honda RBPT\n",
      "16          Qatar    VER  Red Bull Racing Honda RBPT\n",
      "17  United States    VER  Red Bull Racing Honda RBPT\n",
      "18         Mexico    VER  Red Bull Racing Honda RBPT\n",
      "19         Brazil    VER  Red Bull Racing Honda RBPT\n",
      "20      Las Vegas    VER  Red Bull Racing Honda RBPT\n"
     ]
    }
   ],
   "source": [
    "# experimenting with pandas library\n",
    "df = pd.DataFrame(race_results_2023)\n",
    "print(df)"
   ]
  },
  {
   "cell_type": "code",
   "execution_count": 141,
   "id": "c478b451",
   "metadata": {},
   "outputs": [
    {
     "name": "stdout",
     "output_type": "stream",
     "text": [
      "               gp driver constructor\n",
      "0         Bahrain    VER    Red Bull\n",
      "1    Saudi Arabia    PER    Red Bull\n",
      "2       Australia    VER    Red Bull\n",
      "3      Azerbaijan    PER    Red Bull\n",
      "4           Miami    VER    Red Bull\n",
      "5          Monaco    VER    Red Bull\n",
      "6           Spain    VER    Red Bull\n",
      "7          Canada    VER    Red Bull\n",
      "8         Austria    VER    Red Bull\n",
      "9   Great Britain    VER    Red Bull\n",
      "10        Hungary    VER    Red Bull\n",
      "11        Belgium    VER    Red Bull\n",
      "12    Netherlands    VER    Red Bull\n",
      "13          Italy    VER    Red Bull\n",
      "14      Singapore    SAI     Ferrari\n",
      "15          Japan    VER    Red Bull\n",
      "16          Qatar    VER    Red Bull\n",
      "17  United States    VER    Red Bull\n",
      "18         Mexico    VER    Red Bull\n",
      "19         Brazil    VER    Red Bull\n",
      "20      Las Vegas    VER    Red Bull\n"
     ]
    }
   ],
   "source": [
    "# Shortening Red Bull Racing Honda RBPT to Red Bull\n",
    "\n",
    "correction = {\"Red Bull Racing Honda RBPT\": \"Red Bull\"}\n",
    "\n",
    "df[\"constructor\"] = df[\"constructor\"].replace(correction)\n",
    "\n",
    "print(df)"
   ]
  },
  {
   "cell_type": "code",
   "execution_count": 186,
   "id": "f25b4c16",
   "metadata": {},
   "outputs": [
    {
     "name": "stdout",
     "output_type": "stream",
     "text": [
      "\n",
      "=== CONSTRUCTOR WINS ===\n",
      "{'Red Bull': 20, 'Ferrari': 1}\n"
     ]
    },
    {
     "data": {
      "image/png": "[encoded data removed]",
      "text/plain": [
       "<Figure size 640x480 with 1 Axes>"
      ]
     },
     "metadata": {},
     "output_type": "display_data"
    }
   ],
   "source": [
    "# Visualize the data\n",
    "# num_of_races = len(df)\n",
    "# print(num_of_races)\n",
    "\n",
    "print(\"\\n=== CONSTRUCTOR WINS ===\")\n",
    "num_of_constructor_wins = df[\"constructor\"].value_counts()\n",
    "print(dict(num_of_constructor_wins))\n",
    "\n",
    "# print(\"\\n=== DRIVER WINS ===\")\n",
    "# num_of_driver_wins = df[\"driver\"].value_counts()\n",
    "# print(num_of_driver_wins)\n",
    "\n",
    "my_labels = list(num_of_constructor_wins.keys())\n",
    "\n",
    "data = list(num_of_constructor_wins[label] for label in my_labels)\n",
    "\n",
    "plt.pie(data, labels=my_labels, autopct=\"%.1f%%\")\n",
    "\n",
    "plt.title(\"Formula 1 2023 Season (Constructors Wins)\")\n",
    "plt.axis(\"equal\")\n",
    "\n",
    "plt.show()"
   ]
  }
 ],
 "metadata": {
  "kernelspec": {
   "display_name": "Python 3 (ipykernel)",
   "language": "python",
   "name": "python3"
  },
  "language_info": {
   "codemirror_mode": {
    "name": "ipython",
    "version": 3
   },
   "file_extension": ".py",
   "mimetype": "text/x-python",
   "name": "python",
   "nbconvert_exporter": "python",
   "pygments_lexer": "ipython3",
   "version": "3.11.5"
  }
 },
 "nbformat": 4,
 "nbformat_minor": 5
}
